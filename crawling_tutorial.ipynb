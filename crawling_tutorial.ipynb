{
 "cells": [
  {
   "cell_type": "markdown",
   "metadata": {},
   "source": [
    "# 크롤링 기초"
   ]
  },
  {
   "cell_type": "markdown",
   "metadata": {},
   "source": [
    "### 네이버 블로그 크롤링"
   ]
  },
  {
   "cell_type": "markdown",
   "metadata": {},
   "source": [
    "### Import Library (step.0) "
   ]
  },
  {
   "cell_type": "code",
   "execution_count": 2,
   "metadata": {},
   "outputs": [
    {
     "name": "stdout",
     "output_type": "stream",
     "text": [
      "Collecting selenium\n",
      "  Using cached selenium-3.141.0-py2.py3-none-any.whl (904 kB)\n",
      "Requirement already satisfied: urllib3 in /home/theo/anaconda3/lib/python3.7/site-packages (from selenium) (1.25.8)\n",
      "Installing collected packages: selenium\n",
      "Successfully installed selenium-3.141.0\n",
      "\u001b[33mWARNING: You are using pip version 20.2.4; however, version 20.3.3 is available.\n",
      "You should consider upgrading via the '/home/theo/anaconda3/bin/python -m pip install --upgrade pip' command.\u001b[0m\n",
      "Note: you may need to restart the kernel to use updated packages.\n"
     ]
    }
   ],
   "source": [
    "# pip install selenium"
   ]
  },
  {
   "cell_type": "code",
   "execution_count": 3,
   "metadata": {},
   "outputs": [],
   "source": [
    "import sys\n",
    "import os\n",
    "import pandas as pd\n",
    "import numpy as np\n",
    "\n",
    "from bs4 import BeautifulSoup\n",
    "from selenium import webdriver\n",
    "import time\n",
    "from tqdm.notebook import tqdm"
   ]
  },
  {
   "cell_type": "markdown",
   "metadata": {},
   "source": [
    "### Setting (step.01)"
   ]
  },
  {
   "cell_type": "code",
   "execution_count": 4,
   "metadata": {},
   "outputs": [
    {
     "name": "stdout",
     "output_type": "stream",
     "text": [
      "1.크롤링할 키워드 입력비트코인\n",
      "3. 크롤링을 시작할 기준 날짜를 입력하세요(예: 20210101) : 20210101\n",
      "4. 크롤링을 종료할 기준 날짜를 입력하세요(예 20210110) : 20210107\n"
     ]
    }
   ],
   "source": [
    "query_txt = input('1.크롤링할 키워드 입력: ')\n",
    "# query_txt_ex_1 = input('2. 크롤링에서 제외할 키워드 입력')\n",
    "\n",
    "start_date = input('3. 크롤링을 시작할 기준 날짜를 입력하세요(예: 20210101) : ')\n",
    "end_date = input('4. 크롤링을 종료할 기준 날짜를 입력하세요(예 20210110) : ')"
   ]
  },
  {
   "cell_type": "markdown",
   "metadata": {},
   "source": [
    "#### 나머지는 1/7부터..\n",
    "---"
   ]
  },
  {
   "cell_type": "markdown",
   "metadata": {},
   "source": [
    "### 네이버 검색 API 활용\n",
    "\n",
    "[애플리케이션 등록 예시](https://garnetiger.com/668)\n",
    "\n",
    "\n",
    "[검색 API 예제](https://developers.naver.com/docs/search/blog/)\n",
    "\n",
    "\n",
    "[활용 코드 예시](https://jeongwookie.github.io/2019/03/20/190320-collect-data-using-naver-search-api/)"
   ]
  },
  {
   "cell_type": "code",
   "execution_count": null,
   "metadata": {},
   "outputs": [],
   "source": [
    "# 네이버 검색 API예제는 블로그를 비롯 전문자료까지 호출방법이 동일하므로 blog검색만 대표로 예제를 올렸습니다.\n",
    "# 네이버 검색 Open API 예제 - 블로그 검색\n",
    "import os\n",
    "import sys\n",
    "import urllib.request\n",
    "\n",
    "client_id = \"YOUR_CLIENT_ID\"\n",
    "client_secret = \"YOUR_CLIENT_SECRET\"\n",
    "\n",
    "encText = urllib.parse.quote(\"검색할 단어\")\n",
    "url = \"https://openapi.naver.com/v1/search/blog?query=\" + encText # json 결과\n",
    "# url = \"https://openapi.naver.com/v1/search/blog.xml?query=\" + encText # xml 결과\n",
    "request = urllib.request.Request(url)\n",
    "request.add_header(\"X-Naver-Client-Id\",client_id)\n",
    "request.add_header(\"X-Naver-Client-Secret\",client_secret)\n",
    "response = urllib.request.urlopen(request)\n",
    "rescode = response.getcode()\n",
    "if(rescode==200):\n",
    "    response_body = response.read()\n",
    "    print(response_body.decode('utf-8'))\n",
    "else:\n",
    "    print(\"Error Code:\" + rescode)"
   ]
  },
  {
   "cell_type": "code",
   "execution_count": 8,
   "metadata": {},
   "outputs": [],
   "source": [
    "CLIENT_ID = 'YOUR Client ID'\n",
    "CLIENT_SECRET = 'YOUR Client Secret'"
   ]
  },
  {
   "cell_type": "code",
   "execution_count": 18,
   "metadata": {},
   "outputs": [],
   "source": [
    "import requests\n",
    "from urllib.parse import quote\n",
    " \n",
    "def call(keyword, start):\n",
    "    encText = quote(keyword)\n",
    "    url = \"https://openapi.naver.com/v1/search/blog?query=\"+encText+\"&display=100\"+\"&start=\"+str(start)\n",
    "    result = requests.get(url=url, headers={\"X-Naver-Client-Id\": CLIENT_ID,\n",
    "                                          \"X-Naver-Client-Secret\":CLIENT_SECRET})\n",
    "    print(result)  # Response [200]\n",
    "    return result.json()\n",
    "\n",
    "# &display=100은 한번에 100개의 검색 결과를 보여준다는 것\n",
    "# &start=은 그 뒤의 숫자에 따라 어느 순서의 검색 결과부터 출력하는지를 결정"
   ]
  },
  {
   "cell_type": "code",
   "execution_count": 13,
   "metadata": {},
   "outputs": [],
   "source": [
    "# 100개의 검색 결과 받아오기\n",
    "def get100results(keyword):\n",
    "    list = []\n",
    "    for num in range(0,10):\n",
    "        list = list + call(keyword, num * 10 + 1)['items'] # list 안에 키값이 ’item’인 애들만 넣기\n",
    "    return list"
   ]
  },
  {
   "cell_type": "code",
   "execution_count": 19,
   "metadata": {},
   "outputs": [
    {
     "name": "stdout",
     "output_type": "stream",
     "text": [
      "<Response [200]>\n",
      "<Response [200]>\n",
      "<Response [200]>\n",
      "<Response [200]>\n",
      "<Response [200]>\n",
      "<Response [200]>\n",
      "<Response [200]>\n",
      "<Response [200]>\n",
      "<Response [200]>\n",
      "<Response [200]>\n"
     ]
    },
    {
     "data": {
      "text/plain": [
       "878236"
      ]
     },
     "execution_count": 19,
     "metadata": {},
     "output_type": "execute_result"
    }
   ],
   "source": [
    "import json\n",
    " \n",
    "list = []\n",
    "result = get100results(\"비트코인\")\n",
    "list = list + result\n",
    " \n",
    "file = open(\"./coin.json\", \"w+\")  # gangnam.json 파일을 쓰기 가능한 상태로 열기 (만들기)\n",
    "file.write(json.dumps(list))  # 쓰기"
   ]
  },
  {
   "cell_type": "code",
   "execution_count": 21,
   "metadata": {},
   "outputs": [],
   "source": [
    "import pandas as pd\n",
    "df = pd.read_json(\"./coin.json\")\n",
    "df.to_csv('crawling_naver_coin.csv',encoding='utf-8-sig',index=False)"
   ]
  },
  {
   "cell_type": "code",
   "execution_count": 23,
   "metadata": {},
   "outputs": [
    {
     "name": "stdout",
     "output_type": "stream",
     "text": [
      "(1000, 6)\n"
     ]
    },
    {
     "data": {
      "text/html": [
       "<div>\n",
       "<style scoped>\n",
       "    .dataframe tbody tr th:only-of-type {\n",
       "        vertical-align: middle;\n",
       "    }\n",
       "\n",
       "    .dataframe tbody tr th {\n",
       "        vertical-align: top;\n",
       "    }\n",
       "\n",
       "    .dataframe thead th {\n",
       "        text-align: right;\n",
       "    }\n",
       "</style>\n",
       "<table border=\"1\" class=\"dataframe\">\n",
       "  <thead>\n",
       "    <tr style=\"text-align: right;\">\n",
       "      <th></th>\n",
       "      <th>title</th>\n",
       "      <th>link</th>\n",
       "      <th>description</th>\n",
       "      <th>bloggername</th>\n",
       "      <th>bloggerlink</th>\n",
       "      <th>postdate</th>\n",
       "    </tr>\n",
       "  </thead>\n",
       "  <tbody>\n",
       "    <tr>\n",
       "      <th>0</th>\n",
       "      <td>비트맥스 거래방법 신원인증 수수료 &lt;b&gt;비트코인&lt;/b&gt; 마진거래</td>\n",
       "      <td>https://blog.naver.com/cellist92?Redirect=Log&amp;...</td>\n",
       "      <td>비트맥스에서 투자를 하려면 신원인증과 더불어서 거래 방법에 대해 알고 계셔야 합니다...</td>\n",
       "      <td>대전유플러스치과</td>\n",
       "      <td>https://blog.naver.com/cellist92</td>\n",
       "      <td>20210105</td>\n",
       "    </tr>\n",
       "    <tr>\n",
       "      <th>1</th>\n",
       "      <td>&lt;b&gt;비트코인&lt;/b&gt;, 그 가치를 어찌 예측하는 건가</td>\n",
       "      <td>https://blog.naver.com/nomore_bet?Redirect=Log...</td>\n",
       "      <td># 큰 수 큰 수 &lt;b&gt;비트코인&lt;/b&gt; 가격 전망은 어떻게 나오는 걸까. 세계적인 ...</td>\n",
       "      <td>No more bets</td>\n",
       "      <td>https://blog.naver.com/nomore_bet</td>\n",
       "      <td>20201228</td>\n",
       "    </tr>\n",
       "    <tr>\n",
       "      <th>2</th>\n",
       "      <td>바이비트 수수료 &lt;b&gt;비트코인&lt;/b&gt; 마진 거래 방법</td>\n",
       "      <td>https://blog.naver.com/mollyoo?Redirect=Log&amp;lo...</td>\n",
       "      <td>가장 큰 이유는 거래 바이비트 수수료가 가장 저렴하기 때문입니다. 최근 코인시장에 ...</td>\n",
       "      <td>어제보다 더 행복한 오늘 :)</td>\n",
       "      <td>https://blog.naver.com/mollyoo</td>\n",
       "      <td>20210105</td>\n",
       "    </tr>\n",
       "    <tr>\n",
       "      <th>3</th>\n",
       "      <td>&lt;b&gt;비트코인&lt;/b&gt; 시장에 참여하는 기관투자자</td>\n",
       "      <td>https://blog.naver.com/8olive?Redirect=Log&amp;log...</td>\n",
       "      <td>우선 미국 이용자 한정으로 &lt;b&gt;비트코인&lt;/b&gt;, 이더리움, 라이트코인, &lt;b&gt;비트...</td>\n",
       "      <td>\"일과 기쁨 In Joy\"</td>\n",
       "      <td>https://blog.naver.com/8olive</td>\n",
       "      <td>20210105</td>\n",
       "    </tr>\n",
       "    <tr>\n",
       "      <th>4</th>\n",
       "      <td>2020년 투자 결산 및 2021년 부동산, 주식, &lt;b&gt;비트코인&lt;/b&gt; 투자 방향</td>\n",
       "      <td>https://blog.naver.com/ureevory?Redirect=Log&amp;l...</td>\n",
       "      <td>매수/매도차익이 아닌 가치평가차에 불과하지만 어쨌든 정리해보니 YOY +1.7억 -...</td>\n",
       "      <td>길에서 만나다</td>\n",
       "      <td>https://blog.naver.com/ureevory</td>\n",
       "      <td>20210102</td>\n",
       "    </tr>\n",
       "  </tbody>\n",
       "</table>\n",
       "</div>"
      ],
      "text/plain": [
       "                                            title  \\\n",
       "0             비트맥스 거래방법 신원인증 수수료 <b>비트코인</b> 마진거래   \n",
       "1                   <b>비트코인</b>, 그 가치를 어찌 예측하는 건가   \n",
       "2                   바이비트 수수료 <b>비트코인</b> 마진 거래 방법   \n",
       "3                      <b>비트코인</b> 시장에 참여하는 기관투자자   \n",
       "4  2020년 투자 결산 및 2021년 부동산, 주식, <b>비트코인</b> 투자 방향   \n",
       "\n",
       "                                                link  \\\n",
       "0  https://blog.naver.com/cellist92?Redirect=Log&...   \n",
       "1  https://blog.naver.com/nomore_bet?Redirect=Log...   \n",
       "2  https://blog.naver.com/mollyoo?Redirect=Log&lo...   \n",
       "3  https://blog.naver.com/8olive?Redirect=Log&log...   \n",
       "4  https://blog.naver.com/ureevory?Redirect=Log&l...   \n",
       "\n",
       "                                         description       bloggername  \\\n",
       "0  비트맥스에서 투자를 하려면 신원인증과 더불어서 거래 방법에 대해 알고 계셔야 합니다...          대전유플러스치과   \n",
       "1  # 큰 수 큰 수 <b>비트코인</b> 가격 전망은 어떻게 나오는 걸까. 세계적인 ...      No more bets   \n",
       "2  가장 큰 이유는 거래 바이비트 수수료가 가장 저렴하기 때문입니다. 최근 코인시장에 ...  어제보다 더 행복한 오늘 :)   \n",
       "3  우선 미국 이용자 한정으로 <b>비트코인</b>, 이더리움, 라이트코인, <b>비트...    \"일과 기쁨 In Joy\"   \n",
       "4  매수/매도차익이 아닌 가치평가차에 불과하지만 어쨌든 정리해보니 YOY +1.7억 -...           길에서 만나다   \n",
       "\n",
       "                         bloggerlink  postdate  \n",
       "0   https://blog.naver.com/cellist92  20210105  \n",
       "1  https://blog.naver.com/nomore_bet  20201228  \n",
       "2     https://blog.naver.com/mollyoo  20210105  \n",
       "3      https://blog.naver.com/8olive  20210105  \n",
       "4    https://blog.naver.com/ureevory  20210102  "
      ]
     },
     "execution_count": 23,
     "metadata": {},
     "output_type": "execute_result"
    }
   ],
   "source": [
    "print(df.shape)\n",
    "df.head()"
   ]
  },
  {
   "cell_type": "code",
   "execution_count": null,
   "metadata": {},
   "outputs": [],
   "source": []
  }
 ],
 "metadata": {
  "kernelspec": {
   "display_name": "Python 3",
   "language": "python",
   "name": "python3"
  },
  "language_info": {
   "codemirror_mode": {
    "name": "ipython",
    "version": 3
   },
   "file_extension": ".py",
   "mimetype": "text/x-python",
   "name": "python",
   "nbconvert_exporter": "python",
   "pygments_lexer": "ipython3",
   "version": "3.7.6"
  }
 },
 "nbformat": 4,
 "nbformat_minor": 4
}
