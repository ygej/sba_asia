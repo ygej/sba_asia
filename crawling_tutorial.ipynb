{
 "cells": [
  {
   "cell_type": "markdown",
   "metadata": {},
   "source": [
    "# 크롤링 기초"
   ]
  },
  {
   "cell_type": "markdown",
   "metadata": {},
   "source": [
    "### 네이버 블로그 크롤링"
   ]
  },
  {
   "cell_type": "markdown",
   "metadata": {},
   "source": [
    "### Import Library (step.0) "
   ]
  },
  {
   "cell_type": "code",
   "execution_count": 2,
   "metadata": {},
   "outputs": [
    {
     "name": "stdout",
     "output_type": "stream",
     "text": [
      "Collecting selenium\n",
      "  Using cached selenium-3.141.0-py2.py3-none-any.whl (904 kB)\n",
      "Requirement already satisfied: urllib3 in /home/theo/anaconda3/lib/python3.7/site-packages (from selenium) (1.25.8)\n",
      "Installing collected packages: selenium\n",
      "Successfully installed selenium-3.141.0\n",
      "\u001b[33mWARNING: You are using pip version 20.2.4; however, version 20.3.3 is available.\n",
      "You should consider upgrading via the '/home/theo/anaconda3/bin/python -m pip install --upgrade pip' command.\u001b[0m\n",
      "Note: you may need to restart the kernel to use updated packages.\n"
     ]
    }
   ],
   "source": [
    "# pip install selenium"
   ]
  },
  {
   "cell_type": "code",
   "execution_count": 18,
   "metadata": {},
   "outputs": [],
   "source": [
    "import sys\n",
    "import os\n",
    "import pandas as pd\n",
    "import numpy as np\n",
    "\n",
    "from bs4 import BeautifulSoup\n",
    "from selenium import webdriver\n",
    "import time\n",
    "from tqdm.notebook import tqdm"
   ]
  },
  {
   "cell_type": "markdown",
   "metadata": {},
   "source": [
    "### Setting (step.01)"
   ]
  },
  {
   "cell_type": "code",
   "execution_count": 91,
   "metadata": {},
   "outputs": [],
   "source": [
    "class navercrawling:\n",
    "    \n",
    "    def __init__(self,\n",
    "                 query_txt = '크롤링할 키워드 입력', \n",
    "                 query_txt_ex_1 = '크롤링에서 제외할 키워드 입력', \n",
    "                 start_date = '20200101', \n",
    "                 end_date = '20201231',\n",
    "                 path = '/home/theo/chromedriver' ):\n",
    "        \n",
    "        self.query_txt = query_txt\n",
    "        self.query_txt_ex_1 = query_txt_ex_1\n",
    "        self.start_date = start_date\n",
    "        self.end_date = end_date\n",
    "        \n",
    "        # 크롬 웹드라이버 경로 설정\n",
    "        self.path = path\n",
    "        self.driver = webdriver.Chrome(self.path)\n",
    "        \n",
    "    def web_act(self):\n",
    "        \n",
    "        # 주소 설정\n",
    "        self.driver.get('http://www.naver.com')\n",
    "        time.sleep(2)\n",
    "    \n",
    "        # 검색창에 query_txt 입력 & 검색\n",
    "        element = self.driver.find_element_by_id('query')\n",
    "        element.send_keys(self.query_txt)\n",
    "        element.submit()\n",
    "        time.sleep(1)\n",
    "    \n",
    "        # 'VIEW' 클릭\n",
    "        self.driver.find_element_by_link_text(\"VIEW\").click()\n",
    "    \n",
    "        # '블로그' 클릭\n",
    "        self.driver.find_element_by_link_text(\"블로그\").click()\n",
    "        time.sleep(1)\n",
    "    \n",
    "        #'검색옵션' 클릭\n",
    "        self.driver.find_element_by_link_text('검색옵션').click()\n",
    "        time.sleep(1)\n",
    "    \n",
    "        # 관련도 순으로 정렬하기\n",
    "        self.driver.find_element_by_xpath(\"\"\"//*[@id=\"snb\"]/div/ul/li[1]/a\"\"\").click() # 정렬버튼\n",
    "        self.driver.find_element_by_xpath(\"\"\"//*[@id=\"snb\"]/div/ul/li[1]/div/ul/li[1]\"\"\").click() # 관련도 순 메뉴\n",
    "        time.sleep(1)\n",
    "        \n",
    "        # 날짜 입력\n",
    "        self.driver.find_element_by_link_text(\"기간\").click()\n",
    "        time.sleep(2)\n",
    "        \n",
    "        # 시작 날짜 입력\n",
    "        s_date = self.driver.find_element_by_id('date_from_input')\n",
    "        self.driver.find_element_by_id('date_from_input').click()\n",
    "        s_date.clear()\n",
    "        \n",
    "        for c in self.start_date:\n",
    "            s_date.send_keys(c)\n",
    "            time.sleep(0.1)\n",
    "        \n",
    "        # 종료 날짜 입력\n",
    "        e_date = self.driver.find_element_by_id('date_to_input')\n",
    "        self.driver.find_element_by_id('date_from_input').click()\n",
    "        e_date.clear()\n",
    "        \n",
    "        for c in self.end_date:\n",
    "            e_date.send_keys(c)\n",
    "            time.sleep(0.1)\n",
    "            \n",
    "        # 날짜 입력 \"적용하기\" 버튼 클릭\n",
    "        self.driver.find_element_by_class_name('tx').click()\n",
    "        time.sleep(3)\n",
    "        \n",
    "    def scroll_down(self, n = 10):\n",
    "        \n",
    "        i = 0\n",
    "        self.n = n\n",
    "        \n",
    "        while i < self.n:\n",
    "            self.driver.execute_script(\"window.scro;;To(0, 9999999)\")\n",
    "            time.sleep(1)\n",
    "            i += 1\n",
    "            \n",
    "    def crawling_url(self, df_path = '/home/theo/project/sba_asia/crawling/blog_url.csv'):\n",
    "        \n",
    "        self.df_path = df_path\n",
    "        url_list = []\n",
    "        title_list = []\n",
    "        \n",
    "        articles = \".api_txt_lines.total_tit\"\n",
    "        article_raw = self.driver.find_elements_by_css_selector(articles)\n",
    "        \n",
    "        # url crawling\n",
    "        for article in article_raw:\n",
    "            url = article.get_attribute('href')\n",
    "            url_list.append(url)\n",
    "        time.sleep(1)\n",
    "        \n",
    "        # title crawling\n",
    "        for article in article_raw:\n",
    "            title = article.text\n",
    "            title_list.append(title)\n",
    "            \n",
    "            print(title)\n",
    "            \n",
    "        print('url 갯수: ', len(url_list))\n",
    "        print('title 갯수: ', len(title_list))\n",
    "        \n",
    "        # 수집한 URL을 DataFrame으로 저장\n",
    "        df = pd.DataFrame({'url': url_list, 'title':title_list})\n",
    "        df.to_csv(self.df_path)\n",
    "        \n",
    "    def crawling_blog(self, number = 10):\n",
    "        import pandas as pd\n",
    "        self.number = number\n",
    "        \n",
    "        target_info = {}\n",
    "        contents_dict = {}\n",
    "        url_df = pd.read_csv(self.df_path)\n",
    "        \n",
    "        for i in tqdm(range(0, number)):\n",
    "            \n",
    "            # 글 띄우기\n",
    "            url = url_df['url'][i]\n",
    "            self.driver.get(url)\n",
    "            \n",
    "            # 크롤링\n",
    "            \n",
    "            try:\n",
    "                \n",
    "                #iframe 접근\n",
    "                self.driver.switch_to.frame('mainFrame')\n",
    "                \n",
    "                target_info = {}\n",
    "                \n",
    "                # 제목 크롤링\n",
    "                overlays = \"se-module.se-module-text.se-title-text\"\n",
    "                tit = self.driver.find_element_by_css_selector(overlays)\n",
    "                title = tit.text\n",
    "                \n",
    "                # 글쓴이 크롤링\n",
    "                overlays = \".nick\"\n",
    "                nick = self.driver.find_element_by_css_selector(overlays)\n",
    "                nickname = nick.text\n",
    "                \n",
    "                # 날짜 크롤링\n",
    "                overlays = \".se_publishDate.pco12\"\n",
    "                date = self.driver.find_element_by_css_selector(overlays)\n",
    "                datetime = date.text\n",
    "                \n",
    "                # 내용 크롤링\n",
    "                overlays = \".se_component.se-text.se-l-default\"\n",
    "                contents = self.driver.find_element_by_css_selector(overlays)\n",
    "                \n",
    "                content_list = []\n",
    "                for content in contents:\n",
    "                    content_list.append(content.text)\n",
    "                \n",
    "                content_str = ' '.join(content_list)\n",
    "\n",
    "                # 글 하나는 target_info라는 딕셔너리에 담기게 되고,\n",
    "                target_info['title'] = title\n",
    "                target_info['nickname'] = nickname\n",
    "                target_info['datetime'] = datetime\n",
    "                target_info['content'] = content_str\n",
    "\n",
    "                # 각각의 글은 contents_dict 이라는 딕셔너리에 담기게 됩니다.\n",
    "                contents_dict[i] = target_info\n",
    "                time.sleep(1)\n",
    "        \n",
    "                # 크롤링이 성공하면 글 제목을 출력하게 되고,\n",
    "                print(i, title)\n",
    "\n",
    "                # 글 하나 크롤링 후 크롬 창을 닫습니다.\n",
    "                #self.driver.close()  # 우분투에선 해당 코드가 필요없습니다!     \n",
    "    \n",
    "        # 에러나면 다음 글(i+1)로 이동합니다.\n",
    "            except:\n",
    "                #self.driver.close()\n",
    "                time.sleep(1)\n",
    "                continue\n",
    "    \n",
    "        # 중간,중간에 파일로 저장하기\n",
    "            if i == 30 or 50 or 80:\n",
    "                # 판다스로 만들기\n",
    "                import pandas as pd\n",
    "                result_df = pd.DataFrame.from_dict(contents_dict, 'index')\n",
    "\n",
    "                # 저장하기\n",
    "                result_df.to_csv('/home/theo/project/sba_asia/crawling/blog_contents.csv')\n",
    "                time.sleep(3)\n",
    "\n",
    "        print('수집한 글 갯수: ', len(contents_dict))\n",
    "        print(contents_dict)\n",
    "        result_df = pd.DataFrame.from_dict(contents_dict, 'index')\n",
    "        # 저장하기\n",
    "        result_df.to_csv('/home/theo/project/sba_asia/crawling/blog_contents.csv')    "
   ]
  },
  {
   "cell_type": "code",
   "execution_count": 92,
   "metadata": {},
   "outputs": [],
   "source": [
    "n_c = navercrawling(query_txt = '비트코인')"
   ]
  },
  {
   "cell_type": "code",
   "execution_count": 93,
   "metadata": {},
   "outputs": [],
   "source": [
    "n_c.web_act()"
   ]
  },
  {
   "cell_type": "code",
   "execution_count": 94,
   "metadata": {},
   "outputs": [
    {
     "name": "stdout",
     "output_type": "stream",
     "text": [
      "비트코인 샀따\n",
      "비트코인 관련주 총체적으로 분석해보기\n",
      "비트코인 ETP와 자산배분 관점\n",
      "비트코인, 그 가치를 어찌 예측하는 건가\n",
      "비트코인, 울트라 떡상의 세가지 이유\n",
      "비트코인 사상 최고가?! 가상화폐 관련주!\n",
      "비트코인 3000만원돌파 + 리플 최악의 소송위기 휘말려\n",
      "비트코인 관련주 가상화폐 대장주 역시 파워 강력\n",
      "비트코인과 중국\n",
      "비트코인 전망 3억까지 오른다고?!\n",
      "비트코인 관련주 미리 공부해두자\n",
      "비트코인 시세 알고 있어야 하는 2가지\n",
      "비트코인 마진거래 에그빗으로 알아보기\n",
      "비트코인 관련주 주가 및 재무제표 ( 위지트, 우리기술투자...\n",
      "☆ 비트코인 고공행진 \"내년에 3억 넘는다\" 소문의 진실, 3년...\n",
      "비트코인 투자사기 의도성 없었더라도\n",
      "비트코인 - 구조적인 관점으로 볼 것~!!\n",
      "비트코인 2만 달러, 미국 연준 제로금리, 한미 통화스와프...\n",
      "비트코인...2만불 가나요?\n",
      "비트코인 최고가 기록, 항후전망은?\n",
      "비트코인이 심상치 않다. 가상화폐 관련주 체크! 내 선택은...\n",
      "비트코인 마진거래 감언이설 속지마라\n",
      "비트코인 이제는 금과 비교하는 시대? 2 (ft. MSTR???)\n",
      "비트코인 성공하는 투자법\n",
      "위지트 주가 비덴트 비트코인 관련주 분석\n",
      "비트코인 그리고 MMT, 현대통화이론\n",
      "비트코인 시세 , 금 시세 돈풀리면 무조건\n",
      "비트코인볼트 가상화폐 재테크가 될 수 있을까?...\n",
      "비트코인 수수료 최저율을 찾아나서다\n",
      "비트코인 차트분석 : 선택장애의 결과\n",
      "url 갯수:  30\n",
      "title 갯수:  30\n"
     ]
    }
   ],
   "source": [
    "n_c.crawling_url()"
   ]
  },
  {
   "cell_type": "code",
   "execution_count": 95,
   "metadata": {},
   "outputs": [
    {
     "data": {
      "application/vnd.jupyter.widget-view+json": {
       "model_id": "aa0be917ca2a4b0494f36f1821e06c35",
       "version_major": 2,
       "version_minor": 0
      },
      "text/plain": [
       "HBox(children=(HTML(value=''), FloatProgress(value=0.0, max=10.0), HTML(value='')))"
      ]
     },
     "metadata": {},
     "output_type": "display_data"
    },
    {
     "name": "stdout",
     "output_type": "stream",
     "text": [
      "\n",
      "수집한 글 갯수:  0\n",
      "<class 'dict'>\n"
     ]
    }
   ],
   "source": [
    "n_c.crawling_blog()"
   ]
  },
  {
   "cell_type": "markdown",
   "metadata": {},
   "source": [
    "#### 나머지는 1/8부터..\n",
    "---"
   ]
  },
  {
   "cell_type": "markdown",
   "metadata": {},
   "source": [
    "### 네이버 검색 API 활용\n",
    "\n",
    "[애플리케이션 등록 예시](https://garnetiger.com/668)\n",
    "\n",
    "\n",
    "[검색 API 예제](https://developers.naver.com/docs/search/blog/)\n",
    "\n",
    "\n",
    "[활용 코드 예시](https://jeongwookie.github.io/2019/03/20/190320-collect-data-using-naver-search-api/)"
   ]
  },
  {
   "cell_type": "code",
   "execution_count": null,
   "metadata": {},
   "outputs": [],
   "source": [
    "# 네이버 검색 API예제는 블로그를 비롯 전문자료까지 호출방법이 동일하므로 blog검색만 대표로 예제를 올렸습니다.\n",
    "# 네이버 검색 Open API 예제 - 블로그 검색\n",
    "import os\n",
    "import sys\n",
    "import urllib.request\n",
    "\n",
    "client_id = \"YOUR_CLIENT_ID\"\n",
    "client_secret = \"YOUR_CLIENT_SECRET\"\n",
    "\n",
    "encText = urllib.parse.quote(\"검색할 단어\")\n",
    "url = \"https://openapi.naver.com/v1/search/blog?query=\" + encText # json 결과\n",
    "# url = \"https://openapi.naver.com/v1/search/blog.xml?query=\" + encText # xml 결과\n",
    "request = urllib.request.Request(url)\n",
    "request.add_header(\"X-Naver-Client-Id\",client_id)\n",
    "request.add_header(\"X-Naver-Client-Secret\",client_secret)\n",
    "response = urllib.request.urlopen(request)\n",
    "rescode = response.getcode()\n",
    "if(rescode==200):\n",
    "    response_body = response.read()\n",
    "    print(response_body.decode('utf-8'))\n",
    "else:\n",
    "    print(\"Error Code:\" + rescode)"
   ]
  },
  {
   "cell_type": "code",
   "execution_count": 8,
   "metadata": {},
   "outputs": [],
   "source": [
    "CLIENT_ID = 'YOUR Client ID'\n",
    "CLIENT_SECRET = 'YOUR Client Secret'"
   ]
  },
  {
   "cell_type": "code",
   "execution_count": 18,
   "metadata": {},
   "outputs": [],
   "source": [
    "import requests\n",
    "from urllib.parse import quote\n",
    " \n",
    "def call(keyword, start):\n",
    "    encText = quote(keyword)\n",
    "    url = \"https://openapi.naver.com/v1/search/blog?query=\"+encText+\"&display=100\"+\"&start=\"+str(start)\n",
    "    result = requests.get(url=url, headers={\"X-Naver-Client-Id\": CLIENT_ID,\n",
    "                                          \"X-Naver-Client-Secret\":CLIENT_SECRET})\n",
    "    print(result)  # Response [200]\n",
    "    return result.json()\n",
    "\n",
    "# &display=100은 한번에 100개의 검색 결과를 보여준다는 것\n",
    "# &start=은 그 뒤의 숫자에 따라 어느 순서의 검색 결과부터 출력하는지를 결정"
   ]
  },
  {
   "cell_type": "code",
   "execution_count": 13,
   "metadata": {},
   "outputs": [],
   "source": [
    "# 100개의 검색 결과 받아오기\n",
    "def get100results(keyword):\n",
    "    list = []\n",
    "    for num in range(0,10):\n",
    "        list = list + call(keyword, num * 10 + 1)['items'] # list 안에 키값이 ’item’인 애들만 넣기\n",
    "    return list"
   ]
  },
  {
   "cell_type": "code",
   "execution_count": 19,
   "metadata": {},
   "outputs": [
    {
     "name": "stdout",
     "output_type": "stream",
     "text": [
      "<Response [200]>\n",
      "<Response [200]>\n",
      "<Response [200]>\n",
      "<Response [200]>\n",
      "<Response [200]>\n",
      "<Response [200]>\n",
      "<Response [200]>\n",
      "<Response [200]>\n",
      "<Response [200]>\n",
      "<Response [200]>\n"
     ]
    },
    {
     "data": {
      "text/plain": [
       "878236"
      ]
     },
     "execution_count": 19,
     "metadata": {},
     "output_type": "execute_result"
    }
   ],
   "source": [
    "import json\n",
    " \n",
    "list = []\n",
    "result = get100results(\"비트코인\")\n",
    "list = list + result\n",
    " \n",
    "file = open(\"./coin.json\", \"w+\")  # gangnam.json 파일을 쓰기 가능한 상태로 열기 (만들기)\n",
    "file.write(json.dumps(list))  # 쓰기"
   ]
  },
  {
   "cell_type": "code",
   "execution_count": 21,
   "metadata": {},
   "outputs": [],
   "source": [
    "import pandas as pd\n",
    "df = pd.read_json(\"./coin.json\")\n",
    "df.to_csv('crawling_naver_coin.csv',encoding='utf-8-sig',index=False)"
   ]
  },
  {
   "cell_type": "code",
   "execution_count": 23,
   "metadata": {},
   "outputs": [
    {
     "name": "stdout",
     "output_type": "stream",
     "text": [
      "(1000, 6)\n"
     ]
    },
    {
     "data": {
      "text/html": [
       "<div>\n",
       "<style scoped>\n",
       "    .dataframe tbody tr th:only-of-type {\n",
       "        vertical-align: middle;\n",
       "    }\n",
       "\n",
       "    .dataframe tbody tr th {\n",
       "        vertical-align: top;\n",
       "    }\n",
       "\n",
       "    .dataframe thead th {\n",
       "        text-align: right;\n",
       "    }\n",
       "</style>\n",
       "<table border=\"1\" class=\"dataframe\">\n",
       "  <thead>\n",
       "    <tr style=\"text-align: right;\">\n",
       "      <th></th>\n",
       "      <th>title</th>\n",
       "      <th>link</th>\n",
       "      <th>description</th>\n",
       "      <th>bloggername</th>\n",
       "      <th>bloggerlink</th>\n",
       "      <th>postdate</th>\n",
       "    </tr>\n",
       "  </thead>\n",
       "  <tbody>\n",
       "    <tr>\n",
       "      <th>0</th>\n",
       "      <td>비트맥스 거래방법 신원인증 수수료 &lt;b&gt;비트코인&lt;/b&gt; 마진거래</td>\n",
       "      <td>https://blog.naver.com/cellist92?Redirect=Log&amp;...</td>\n",
       "      <td>비트맥스에서 투자를 하려면 신원인증과 더불어서 거래 방법에 대해 알고 계셔야 합니다...</td>\n",
       "      <td>대전유플러스치과</td>\n",
       "      <td>https://blog.naver.com/cellist92</td>\n",
       "      <td>20210105</td>\n",
       "    </tr>\n",
       "    <tr>\n",
       "      <th>1</th>\n",
       "      <td>&lt;b&gt;비트코인&lt;/b&gt;, 그 가치를 어찌 예측하는 건가</td>\n",
       "      <td>https://blog.naver.com/nomore_bet?Redirect=Log...</td>\n",
       "      <td># 큰 수 큰 수 &lt;b&gt;비트코인&lt;/b&gt; 가격 전망은 어떻게 나오는 걸까. 세계적인 ...</td>\n",
       "      <td>No more bets</td>\n",
       "      <td>https://blog.naver.com/nomore_bet</td>\n",
       "      <td>20201228</td>\n",
       "    </tr>\n",
       "    <tr>\n",
       "      <th>2</th>\n",
       "      <td>바이비트 수수료 &lt;b&gt;비트코인&lt;/b&gt; 마진 거래 방법</td>\n",
       "      <td>https://blog.naver.com/mollyoo?Redirect=Log&amp;lo...</td>\n",
       "      <td>가장 큰 이유는 거래 바이비트 수수료가 가장 저렴하기 때문입니다. 최근 코인시장에 ...</td>\n",
       "      <td>어제보다 더 행복한 오늘 :)</td>\n",
       "      <td>https://blog.naver.com/mollyoo</td>\n",
       "      <td>20210105</td>\n",
       "    </tr>\n",
       "    <tr>\n",
       "      <th>3</th>\n",
       "      <td>&lt;b&gt;비트코인&lt;/b&gt; 시장에 참여하는 기관투자자</td>\n",
       "      <td>https://blog.naver.com/8olive?Redirect=Log&amp;log...</td>\n",
       "      <td>우선 미국 이용자 한정으로 &lt;b&gt;비트코인&lt;/b&gt;, 이더리움, 라이트코인, &lt;b&gt;비트...</td>\n",
       "      <td>\"일과 기쁨 In Joy\"</td>\n",
       "      <td>https://blog.naver.com/8olive</td>\n",
       "      <td>20210105</td>\n",
       "    </tr>\n",
       "    <tr>\n",
       "      <th>4</th>\n",
       "      <td>2020년 투자 결산 및 2021년 부동산, 주식, &lt;b&gt;비트코인&lt;/b&gt; 투자 방향</td>\n",
       "      <td>https://blog.naver.com/ureevory?Redirect=Log&amp;l...</td>\n",
       "      <td>매수/매도차익이 아닌 가치평가차에 불과하지만 어쨌든 정리해보니 YOY +1.7억 -...</td>\n",
       "      <td>길에서 만나다</td>\n",
       "      <td>https://blog.naver.com/ureevory</td>\n",
       "      <td>20210102</td>\n",
       "    </tr>\n",
       "  </tbody>\n",
       "</table>\n",
       "</div>"
      ],
      "text/plain": [
       "                                            title  \\\n",
       "0             비트맥스 거래방법 신원인증 수수료 <b>비트코인</b> 마진거래   \n",
       "1                   <b>비트코인</b>, 그 가치를 어찌 예측하는 건가   \n",
       "2                   바이비트 수수료 <b>비트코인</b> 마진 거래 방법   \n",
       "3                      <b>비트코인</b> 시장에 참여하는 기관투자자   \n",
       "4  2020년 투자 결산 및 2021년 부동산, 주식, <b>비트코인</b> 투자 방향   \n",
       "\n",
       "                                                link  \\\n",
       "0  https://blog.naver.com/cellist92?Redirect=Log&...   \n",
       "1  https://blog.naver.com/nomore_bet?Redirect=Log...   \n",
       "2  https://blog.naver.com/mollyoo?Redirect=Log&lo...   \n",
       "3  https://blog.naver.com/8olive?Redirect=Log&log...   \n",
       "4  https://blog.naver.com/ureevory?Redirect=Log&l...   \n",
       "\n",
       "                                         description       bloggername  \\\n",
       "0  비트맥스에서 투자를 하려면 신원인증과 더불어서 거래 방법에 대해 알고 계셔야 합니다...          대전유플러스치과   \n",
       "1  # 큰 수 큰 수 <b>비트코인</b> 가격 전망은 어떻게 나오는 걸까. 세계적인 ...      No more bets   \n",
       "2  가장 큰 이유는 거래 바이비트 수수료가 가장 저렴하기 때문입니다. 최근 코인시장에 ...  어제보다 더 행복한 오늘 :)   \n",
       "3  우선 미국 이용자 한정으로 <b>비트코인</b>, 이더리움, 라이트코인, <b>비트...    \"일과 기쁨 In Joy\"   \n",
       "4  매수/매도차익이 아닌 가치평가차에 불과하지만 어쨌든 정리해보니 YOY +1.7억 -...           길에서 만나다   \n",
       "\n",
       "                         bloggerlink  postdate  \n",
       "0   https://blog.naver.com/cellist92  20210105  \n",
       "1  https://blog.naver.com/nomore_bet  20201228  \n",
       "2     https://blog.naver.com/mollyoo  20210105  \n",
       "3      https://blog.naver.com/8olive  20210105  \n",
       "4    https://blog.naver.com/ureevory  20210102  "
      ]
     },
     "execution_count": 23,
     "metadata": {},
     "output_type": "execute_result"
    }
   ],
   "source": [
    "print(df.shape)\n",
    "df.head()"
   ]
  },
  {
   "cell_type": "code",
   "execution_count": null,
   "metadata": {},
   "outputs": [],
   "source": []
  }
 ],
 "metadata": {
  "kernelspec": {
   "display_name": "Python 3",
   "language": "python",
   "name": "python3"
  },
  "language_info": {
   "codemirror_mode": {
    "name": "ipython",
    "version": 3
   },
   "file_extension": ".py",
   "mimetype": "text/x-python",
   "name": "python",
   "nbconvert_exporter": "python",
   "pygments_lexer": "ipython3",
   "version": "3.7.6"
  }
 },
 "nbformat": 4,
 "nbformat_minor": 4
}
