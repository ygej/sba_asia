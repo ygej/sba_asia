{
 "cells": [
  {
   "cell_type": "markdown",
   "metadata": {},
   "source": [
    "# 크롤링 기초_02"
   ]
  },
  {
   "cell_type": "markdown",
   "metadata": {},
   "source": [
    "### 쿠팡 제품, 리뷰 크롤링"
   ]
  },
  {
   "cell_type": "markdown",
   "metadata": {},
   "source": [
    "### Import Library (step.0) "
   ]
  },
  {
   "cell_type": "code",
   "execution_count": 1,
   "metadata": {},
   "outputs": [],
   "source": [
    "# pip install selenium"
   ]
  },
  {
   "cell_type": "code",
   "execution_count": 2,
   "metadata": {},
   "outputs": [],
   "source": [
    "import sys\n",
    "import os\n",
    "import pandas as pd\n",
    "import numpy as np\n",
    "\n",
    "from bs4 import BeautifulSoup\n",
    "from selenium import webdriver\n",
    "import time\n",
    "from tqdm.notebook import tqdm"
   ]
  },
  {
   "cell_type": "markdown",
   "metadata": {},
   "source": [
    "### Setting (step.01)"
   ]
  },
  {
   "cell_type": "code",
   "execution_count": 3,
   "metadata": {},
   "outputs": [],
   "source": [
    "class coupangcrawling:\n",
    "    \n",
    "    def __init__(self,\n",
    "                 query_txt = '크롤링할 키워드 입력', \n",
    "                 path = '/home/theo/chromedriver' ):\n",
    "        \n",
    "        self.query_txt = query_txt\n",
    "        \n",
    "        # 크롬 웹드라이버 경로 설정\n",
    "        self.path = path\n",
    "        self.driver = webdriver.Chrome(self.path)\n",
    "        self.contents_dict = {}\n",
    "        self.result_df = pd.DataFrame(columns=[\"title\", \"user\", \"rating\", \"review\", 'date'])\n",
    "\n",
    "    def web_act(self):\n",
    "        \n",
    "        # 주소 설정\n",
    "        self.driver.get('http://www.coupang.com')\n",
    "        time.sleep(2)\n",
    "    \n",
    "        # 검색창에 query_txt 입력 & 검색\n",
    "        element = self.driver.find_element_by_css_selector('#headerSearchKeyword')\n",
    "        element.send_keys(self.query_txt)\n",
    "        element.submit()\n",
    "        time.sleep(1)\n",
    "\n",
    "            \n",
    "    def crawling_url(self, df_path = '/home/theo/project/sba_asia/crawling/coupang_url.csv'):\n",
    "        \n",
    "        self.df_path = df_path\n",
    "        \n",
    "        # url crawling\n",
    "        urls = self.driver.find_elements_by_css_selector('.search-product-link')\n",
    "        \n",
    "        url_list = []\n",
    "        for url in urls:\n",
    "            url = url.get_attribute('href')\n",
    "            url_list.append(url)\n",
    "            \n",
    "        print('url 갯수: ', len(url_list))\n",
    "        \n",
    "        # 수집한 URL을 DataFrame으로 저장\n",
    "        df = pd.DataFrame({'url': url_list})\n",
    "        df.to_csv(self.df_path)\n",
    "        \n",
    "    def crawling_review(self, number = 3):\n",
    "        import pandas as pd\n",
    "        \n",
    "        # url list DataFrame으로 불러오기\n",
    "        url_df = pd.read_csv(self.df_path)\n",
    "        print(url_df.shape)\n",
    "         \n",
    "        for i in tqdm(range(0, number)):\n",
    "            \n",
    "            # 글 띄우기\n",
    "            url = url_df['url'][i]\n",
    "            self.driver.get(url)\n",
    "            \n",
    "            # 크롤링\n",
    "            try:\n",
    "                \n",
    "                self.target_info = {}\n",
    "                \n",
    "                #iframe 접근\n",
    "                #self.driver.switch_to.frame('mainFrame')\n",
    "                \n",
    "                # 제목 크롤링\n",
    "                title = self.driver.find_element_by_css_selector('.prod-buy-header__title').text\n",
    "                time.sleep(2)\n",
    "                \n",
    "        \n",
    "                # 상품평 클릭\n",
    "                self.driver.find_element_by_css_selector('.count').click()\n",
    "                time.sleep(2)\n",
    "                       \n",
    "                # user 수집\n",
    "                users = self.driver.find_elements_by_css_selector('.sdp-review__article__list__info__user')\n",
    "                user_list = []\n",
    "                time.sleep(2)\n",
    "                for user in users:\n",
    "                    user = user.text\n",
    "                    user_list.append(user)\n",
    "                    \n",
    "                # rating 수집\n",
    "                ratings = self.driver.find_elements_by_css_selector('.sdp-review__article__list__info__product-info__star-orange.js_reviewArticleRatingValue')\n",
    "                rating_list = []\n",
    "                time.sleep(2)\n",
    "                for rating in ratings:\n",
    "                    rating = int(rating.get_attribute('data-rating'))\n",
    "                    rating_list.append(rating)\n",
    "                \n",
    "                # review 수집\n",
    "                reviews = self.driver.find_elements_by_css_selector('.sdp-review__article__list.js_reviewArticleReviewList')\n",
    "                review_list = []\n",
    "                time.sleep(2)\n",
    "                \n",
    "                for review in reviews:\n",
    "                    review = review.text\n",
    "                    review_list.append(review)\n",
    "                             \n",
    "                # date 수집\n",
    "                dates = self.driver.find_elements_by_css_selector('.sdp-review__article__list__info__product-info__reg-date')\n",
    "                date_list = []\n",
    "                time.sleep(2)\n",
    "                \n",
    "                for date in dates:\n",
    "                    date = date.text\n",
    "                    date_list.append(date)\n",
    "                 \n",
    "                # self.result_df에 추가하기\n",
    "                tmp = pd.DataFrame({'title': title, 'user' : user_list, 'rating' : rating_list, 'review' : review_list, 'date' : date_list}) \n",
    "                print(tmp.shape)\n",
    "                self.result_df = self.result_df.append(tmp)\n",
    "                time.sleep(2)\n",
    "                \n",
    "                # 크롤링이 성공하면 글 제목을 출력하게 되고,\n",
    "                print(i, title)       \n",
    "                    \n",
    "            except:\n",
    "                #self.driver.close()\n",
    "                print('error')\n",
    "                time.sleep(1)\n",
    "                continue\n",
    "                \n",
    "        print('수집한 리뷰 갯수: ', self.result_df.shape)\n",
    "        # 저장하기\n",
    "        self.result_df.to_csv('/home/theo/project/sba_asia/crawling/coupang_contents.csv', index=False)"
   ]
  },
  {
   "cell_type": "code",
   "execution_count": 4,
   "metadata": {},
   "outputs": [],
   "source": [
    "c_c = coupangcrawling(query_txt = '밀키트')"
   ]
  },
  {
   "cell_type": "code",
   "execution_count": 5,
   "metadata": {},
   "outputs": [],
   "source": [
    "c_c.web_act()"
   ]
  },
  {
   "cell_type": "code",
   "execution_count": 6,
   "metadata": {},
   "outputs": [
    {
     "name": "stdout",
     "output_type": "stream",
     "text": [
      "url 갯수:  36\n"
     ]
    }
   ],
   "source": [
    "c_c.crawling_url()"
   ]
  },
  {
   "cell_type": "code",
   "execution_count": 7,
   "metadata": {},
   "outputs": [
    {
     "name": "stdout",
     "output_type": "stream",
     "text": [
      "(36, 2)\n"
     ]
    },
    {
     "data": {
      "application/vnd.jupyter.widget-view+json": {
       "model_id": "cc6bfc92ba614a7a9454832cb706ec61",
       "version_major": 2,
       "version_minor": 0
      },
      "text/plain": [
       "HBox(children=(HTML(value=''), FloatProgress(value=0.0, max=3.0), HTML(value='')))"
      ]
     },
     "metadata": {},
     "output_type": "display_data"
    },
    {
     "name": "stdout",
     "output_type": "stream",
     "text": [
      "(5, 5)\n",
      "0 마이셰프 밀푀유나베 & 칼국수\n",
      "(5, 5)\n",
      "1 앙트레 쿠킹박스 찹스테이크 2인분\n",
      "(5, 5)\n",
      "2 마이셰프 매콤 소고기 고추 잡채 꽃빵\n",
      "\n",
      "수집한 리뷰 갯수:  (15, 5)\n"
     ]
    }
   ],
   "source": [
    "c_c.crawling_review()"
   ]
  },
  {
   "cell_type": "code",
   "execution_count": 8,
   "metadata": {},
   "outputs": [
    {
     "name": "stdout",
     "output_type": "stream",
     "text": [
      "(15, 5)\n"
     ]
    },
    {
     "data": {
      "text/html": [
       "<div>\n",
       "<style scoped>\n",
       "    .dataframe tbody tr th:only-of-type {\n",
       "        vertical-align: middle;\n",
       "    }\n",
       "\n",
       "    .dataframe tbody tr th {\n",
       "        vertical-align: top;\n",
       "    }\n",
       "\n",
       "    .dataframe thead th {\n",
       "        text-align: right;\n",
       "    }\n",
       "</style>\n",
       "<table border=\"1\" class=\"dataframe\">\n",
       "  <thead>\n",
       "    <tr style=\"text-align: right;\">\n",
       "      <th></th>\n",
       "      <th>title</th>\n",
       "      <th>user</th>\n",
       "      <th>rating</th>\n",
       "      <th>review</th>\n",
       "      <th>date</th>\n",
       "    </tr>\n",
       "  </thead>\n",
       "  <tbody>\n",
       "    <tr>\n",
       "      <th>0</th>\n",
       "      <td>마이셰프 밀푀유나베 &amp; 칼국수</td>\n",
       "      <td>꾸빵꾸매후</td>\n",
       "      <td>5</td>\n",
       "      <td>꾸빵꾸매후 \\n2020.12.30\\n마이셰프 밀푀유나베 &amp; 칼국수, 1129g, 1...</td>\n",
       "      <td>2020.12.30</td>\n",
       "    </tr>\n",
       "    <tr>\n",
       "      <th>1</th>\n",
       "      <td>마이셰프 밀푀유나베 &amp; 칼국수</td>\n",
       "      <td>포레스트11</td>\n",
       "      <td>4</td>\n",
       "      <td>포레스트11 \\n2020.12.29\\n마이셰프 밀푀유나베 &amp; 칼국수, 1129g, ...</td>\n",
       "      <td>2020.12.29</td>\n",
       "    </tr>\n",
       "    <tr>\n",
       "      <th>2</th>\n",
       "      <td>마이셰프 밀푀유나베 &amp; 칼국수</td>\n",
       "      <td>김*숙</td>\n",
       "      <td>5</td>\n",
       "      <td>김*숙 \\n2020.12.27\\n마이셰프 밀푀유나베 &amp; 칼국수, 1129g, 1개\\...</td>\n",
       "      <td>2020.12.27</td>\n",
       "    </tr>\n",
       "    <tr>\n",
       "      <th>3</th>\n",
       "      <td>마이셰프 밀푀유나베 &amp; 칼국수</td>\n",
       "      <td>코알라333</td>\n",
       "      <td>4</td>\n",
       "      <td>코알라333 \\n2020.12.22\\n마이셰프 밀푀유나베 &amp; 칼국수, 1129g, ...</td>\n",
       "      <td>2020.12.22</td>\n",
       "    </tr>\n",
       "    <tr>\n",
       "      <th>4</th>\n",
       "      <td>마이셰프 밀푀유나베 &amp; 칼국수</td>\n",
       "      <td>매일플렉스</td>\n",
       "      <td>5</td>\n",
       "      <td>매일플렉스 \\n2020.12.20\\n마이셰프 밀푀유나베 &amp; 칼국수, 1129g, 1...</td>\n",
       "      <td>2020.12.20</td>\n",
       "    </tr>\n",
       "  </tbody>\n",
       "</table>\n",
       "</div>"
      ],
      "text/plain": [
       "              title     user  rating  \\\n",
       "0  마이셰프 밀푀유나베 & 칼국수   꾸빵꾸매후        5   \n",
       "1  마이셰프 밀푀유나베 & 칼국수  포레스트11        4   \n",
       "2  마이셰프 밀푀유나베 & 칼국수     김*숙        5   \n",
       "3  마이셰프 밀푀유나베 & 칼국수  코알라333        4   \n",
       "4  마이셰프 밀푀유나베 & 칼국수   매일플렉스        5   \n",
       "\n",
       "                                              review        date  \n",
       "0  꾸빵꾸매후 \\n2020.12.30\\n마이셰프 밀푀유나베 & 칼국수, 1129g, 1...  2020.12.30  \n",
       "1  포레스트11 \\n2020.12.29\\n마이셰프 밀푀유나베 & 칼국수, 1129g, ...  2020.12.29  \n",
       "2  김*숙 \\n2020.12.27\\n마이셰프 밀푀유나베 & 칼국수, 1129g, 1개\\...  2020.12.27  \n",
       "3  코알라333 \\n2020.12.22\\n마이셰프 밀푀유나베 & 칼국수, 1129g, ...  2020.12.22  \n",
       "4  매일플렉스 \\n2020.12.20\\n마이셰프 밀푀유나베 & 칼국수, 1129g, 1...  2020.12.20  "
      ]
     },
     "execution_count": 8,
     "metadata": {},
     "output_type": "execute_result"
    }
   ],
   "source": [
    "df = pd.read_csv('/home/theo/project/sba_asia/crawling/coupang_contents.csv')\n",
    "print(df.shape)\n",
    "df.head()"
   ]
  }
 ],
 "metadata": {
  "kernelspec": {
   "display_name": "Python 3",
   "language": "python",
   "name": "python3"
  },
  "language_info": {
   "codemirror_mode": {
    "name": "ipython",
    "version": 3
   },
   "file_extension": ".py",
   "mimetype": "text/x-python",
   "name": "python",
   "nbconvert_exporter": "python",
   "pygments_lexer": "ipython3",
   "version": "3.7.6"
  }
 },
 "nbformat": 4,
 "nbformat_minor": 4
}
