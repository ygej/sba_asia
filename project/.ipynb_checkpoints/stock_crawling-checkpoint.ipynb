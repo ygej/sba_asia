{
 "cells": [
  {
   "cell_type": "markdown",
   "metadata": {},
   "source": [
    "#  📈 미래의 가치를 예측하다, 주식 종목 추천"
   ]
  },
  {
   "cell_type": "code",
   "execution_count": null,
   "metadata": {},
   "outputs": [],
   "source": []
  },
  {
   "cell_type": "markdown",
   "metadata": {},
   "source": [
    "## TEAM 😀\n",
    "\n",
    "- PM(Project Manager) 1명: 프로젝트의 총담당자입니다. 전체 일정을 관리합니다. 발표자료를 만들고, 발표를 합니다.\n",
    "- PE(Project Engineer) 5~6명\n",
    "     - Crawling & Preprocessing: 데이터 크롤링 및 전처리를 담당합니다. 모조리 긁어모아 깔끔하게 정리합니다.\n",
    "     - EDA: 데이터 분석을 합니다. 데이터의 숨은 이야기를 찾습니다.\n",
    "     - Recommendation: 추천 알고리즘을 만듭니다. "
   ]
  },
  {
   "cell_type": "markdown",
   "metadata": {},
   "source": [
    "## Import Library (step.01)"
   ]
  },
  {
   "cell_type": "code",
   "execution_count": 1,
   "metadata": {},
   "outputs": [],
   "source": [
    "import pandas as pd\n",
    "import pandas_profiling\n",
    "import numpy as np\n",
    "import seaborn as sns\n",
    "import matplotlib.pyplot as plt\n",
    "pd.options.display.max_rows=150\n",
    "%matplotlib inline\n",
    "import os\n",
    "import glob\n",
    "\n",
    "# NLP\n",
    "from sklearn.model_selection import train_test_split\n",
    "from sklearn.feature_extraction.text import CountVectorizer\n",
    "from sklearn.feature_extraction.text import TfidfTransformer\n",
    "from sklearn.naive_bayes import MultinomialNB\n",
    "from sklearn import metrics\n",
    "\n",
    "# crawling\n",
    "from konlpy.tag import Mecab\n",
    "import requests\n",
    "import pandas as pd\n",
    "from bs4 import BeautifulSoup"
   ]
  },
  {
   "cell_type": "code",
   "execution_count": 2,
   "metadata": {},
   "outputs": [],
   "source": [
    "url = 'https://media.naver.com/journalist/001/74226'"
   ]
  },
  {
   "cell_type": "markdown",
   "metadata": {},
   "source": [
    "### step.02 crawling\n",
    "1. 반복문으로 기자 프로필 url 리스트 만들기\n",
    "2. 기자별 구독수, 응원수, 30일 평균 작성 기사 수, 대표 섹션, 구독자 통계 수집\n",
    "3. 주간 많이 본 뉴스 기사 추천 수, 반응 [좋아요, 훈훈해요, 슬퍼요, 화나요, 후속기사 원해요] 수집\n",
    "\n",
    "### step.03 EDA\n",
    "1. 신문사별, 섹션별, 기자별 분석\n",
    "2. 기사 내용 기준 유사한 기자\n",
    "\n",
    "### step.04 recommendation\n",
    "1. 섹션별 기자 추천\n",
    "2. 신문사별 기자 추천\n",
    "3. 실시간 주목받는 기자 추천\n",
    "4. 서로 유사한 글 성향의 기자 추천\n",
    "5. 그 외 등등"
   ]
  }
 ],
 "metadata": {
  "kernelspec": {
   "display_name": "Python 3",
   "language": "python",
   "name": "python3"
  },
  "language_info": {
   "codemirror_mode": {
    "name": "ipython",
    "version": 3
   },
   "file_extension": ".py",
   "mimetype": "text/x-python",
   "name": "python",
   "nbconvert_exporter": "python",
   "pygments_lexer": "ipython3",
   "version": "3.7.6"
  }
 },
 "nbformat": 4,
 "nbformat_minor": 4
}
