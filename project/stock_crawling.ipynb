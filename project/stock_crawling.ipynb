{
 "cells": [
  {
   "cell_type": "markdown",
   "metadata": {},
   "source": [
    "#  📈 미래의 가치를 예측하다, 주식 종목 추천"
   ]
  },
  {
   "cell_type": "markdown",
   "metadata": {},
   "source": [
    "주식 열풍이다. \n",
    "\n",
    "[주식에 빠진 대한민국.. 2020년 직장인 수익률 56%](https://www.fnnews.com/news/202101181000209402)\n",
    "\n",
    "[\"주식 안 하면 바보 된다\"…전세금까지 베팅하는 개미들](https://www.hankyung.com/finance/article/2021011106321)\n",
    "\n",
    "파이썬으로 주식을 해보자. 어떤 종목을 사야할까요?"
   ]
  },
  {
   "cell_type": "markdown",
   "metadata": {},
   "source": [
    "## TEAM 😀\n",
    "\n",
    "- PM(Project Manager) 1명: 프로젝트의 총담당자입니다. 전체 일정을 관리합니다. 발표자료를 만들고, 발표를 합니다.\n",
    "- PE(Project Engineer) 5~6명\n",
    "     - Crawling & Preprocessing: 데이터 크롤링 및 전처리를 담당합니다. 모조리 긁어모아 깔끔하게 정리합니다.\n",
    "     - EDA: 데이터 분석을 합니다. 데이터의 숨은 이야기를 찾습니다.\n",
    "     - Recommendation: 추천 알고리즘을 만듭니다. "
   ]
  },
  {
   "cell_type": "markdown",
   "metadata": {},
   "source": [
    "---"
   ]
  },
  {
   "cell_type": "markdown",
   "metadata": {},
   "source": [
    "## 주식 종목 추천 방법\n",
    "\n",
    "#### 1) 데이터 분석 기반 미래 주식 가격 예측하여 종목 추천하기\n",
    "- 데이터 수집: 종목별 과거~현재 주식 가격 데이터   [데이터 수집 링크](https://github.com/choosunsick/Korea_Stocks)\n",
    "- 데이터 수집: 종목별 재무 상태 데이터 [데이터 수집 링크](https://opendart.fss.or.kr/intro/main.do)\n",
    "- 수집한 데이터를 시계열 데이터로 전처리하기 + EDA\n",
    "- LGBM 등의 머신러닝 알고리즘 활용하여 종목별 미래 주식 가격 예측 모델 학습\n",
    "- 추천보다는 데이터 분석 + 지도학습 = 회귀분석에 해당\n",
    "\n",
    "#### 2) 애널리스트 투자의견 기반 종목 추천하기\n",
    "- 데이터 수집: 애널리스트 종목별 투자의견, 적정가격 데이터 수집 [데이터 수집 링크](http://consensus.hankyung.com/apps.analysis/analysis.list?&sdate=2018-01-18&edate=2021-01-18&report_type=CO&pagenum=80&order_type=&now_page=6)\n",
    "- 수집한 데이터를 애널리스트-종목 평점 행렬로 변환\n",
    "- MF, CF, CBF 등의 추천 알고리즘 활용하여 종목 추천\n",
    "- 기간에 따른 추천 유효성, 영향도 등 종합 검증 필요\n",
    "\n",
    "#### 3) "
   ]
  },
  {
   "cell_type": "markdown",
   "metadata": {},
   "source": [
    "## Import Library (step.01)"
   ]
  },
  {
   "cell_type": "code",
   "execution_count": 1,
   "metadata": {},
   "outputs": [],
   "source": [
    "import pandas as pd\n",
    "import pandas_profiling\n",
    "import numpy as np\n",
    "import seaborn as sns\n",
    "import matplotlib.pyplot as plt\n",
    "pd.options.display.max_rows=150\n",
    "%matplotlib inline\n",
    "import os\n",
    "import glob\n",
    "\n",
    "# NLP\n",
    "from sklearn.model_selection import train_test_split\n",
    "from sklearn.feature_extraction.text import CountVectorizer\n",
    "from sklearn.feature_extraction.text import TfidfTransformer\n",
    "from sklearn.naive_bayes import MultinomialNB\n",
    "from sklearn import metrics\n",
    "\n",
    "# crawling\n",
    "from konlpy.tag import Mecab\n",
    "import requests\n",
    "import pandas as pd\n",
    "from bs4 import BeautifulSoup"
   ]
  }
 ],
 "metadata": {
  "kernelspec": {
   "display_name": "Python 3",
   "language": "python",
   "name": "python3"
  },
  "language_info": {
   "codemirror_mode": {
    "name": "ipython",
    "version": 3
   },
   "file_extension": ".py",
   "mimetype": "text/x-python",
   "name": "python",
   "nbconvert_exporter": "python",
   "pygments_lexer": "ipython3",
   "version": "3.7.6"
  }
 },
 "nbformat": 4,
 "nbformat_minor": 4
}
